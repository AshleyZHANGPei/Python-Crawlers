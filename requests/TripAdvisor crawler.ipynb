{
 "cells": [
  {
   "cell_type": "code",
   "execution_count": 12,
   "metadata": {
    "collapsed": false
   },
   "outputs": [],
   "source": [
    "import requests\n",
    "import bs4"
   ]
  },
  {
   "cell_type": "code",
   "execution_count": 6,
   "metadata": {
    "collapsed": false
   },
   "outputs": [],
   "source": [
    "a = requests.get(\"https://www.tripadvisor.co.uk/Hotel_Review-g297418-d6783955-Reviews-Club_Med_Dong_ao_Island-Zhuhai_Guangdong.html\")"
   ]
  },
  {
   "cell_type": "code",
   "execution_count": 15,
   "metadata": {
    "collapsed": false
   },
   "outputs": [],
   "source": [
    "soup = bs4.BeautifulSoup(a.text, \"lxml\")"
   ]
  },
  {
   "cell_type": "code",
   "execution_count": 37,
   "metadata": {
    "collapsed": false
   },
   "outputs": [
    {
     "name": "stdout",
     "output_type": "stream",
     "text": [
      "Excellent: 77\n",
      "\n",
      "Very good: 36\n",
      "\n",
      "Average: 10\n",
      "\n",
      "Poor: 2\n",
      "\n",
      "Terrible: 4\n",
      "\n"
     ]
    }
   ],
   "source": [
    "ratings = soup.find(\"div\", {\"id\": \"ratingFilter\"}).findAll(\"li\")\n",
    "for row in ratings:\n",
    "    rating = row.find(\"div\", {\"class\": \"row_label\"}).text\n",
    "    num = row.find(\"label\").findAll(\"span\")[2].text\n",
    "    print('{}: {}'.format(rating, num))"
   ]
  },
  {
   "cell_type": "code",
   "execution_count": null,
   "metadata": {
    "collapsed": true
   },
   "outputs": [],
   "source": []
  }
 ],
 "metadata": {
  "kernelspec": {
   "display_name": "Python [Root]",
   "language": "python",
   "name": "Python [Root]"
  },
  "language_info": {
   "codemirror_mode": {
    "name": "ipython",
    "version": 3
   },
   "file_extension": ".py",
   "mimetype": "text/x-python",
   "name": "python",
   "nbconvert_exporter": "python",
   "pygments_lexer": "ipython3",
   "version": "3.5.2"
  }
 },
 "nbformat": 4,
 "nbformat_minor": 0
}
