{
 "cells": [
  {
   "cell_type": "code",
   "execution_count": 1,
   "metadata": {
    "collapsed": false
   },
   "outputs": [],
   "source": [
    "import requests\n",
    "from bs4 import BeautifulSoup"
   ]
  },
  {
   "cell_type": "code",
   "execution_count": 2,
   "metadata": {
    "collapsed": true
   },
   "outputs": [],
   "source": [
    "# define the log-in page and searching page\n",
    "log_url = \"https://gs1lv.org/login_to_gepir\"\n",
    "search_url = \"https://gs1lv.org/gepirui/search_by_gtin\""
   ]
  },
  {
   "cell_type": "markdown",
   "metadata": {},
   "source": [
    "Using the console, we found that we can log in \"gs1lv.org\" by posting `multipart/form-data` which contains username, password, and submit information.\n",
    "\n",
    "multipart/form-data:\n",
    "```------WebKitFormBoundarywfB7ajh0Y8kouU5V\n",
    "Content-Disposition: form-data; name=\"email\"\n",
    "\n",
    "bems@pp.u-tokyo.ac.jp\n",
    "------WebKitFormBoundarywfB7ajh0Y8kouU5V\n",
    "Content-Disposition: form-data; name=\"password\"\n",
    "\n",
    "95a49208a\n",
    "------WebKitFormBoundarywfB7ajh0Y8kouU5V\n",
    "Content-Disposition: form-data; name=\"submit\"\n",
    "\n",
    "Pieslēgties\n",
    "------WebKitFormBoundarywfB7ajh0Y8kouU5V--```"
   ]
  },
  {
   "cell_type": "code",
   "execution_count": 3,
   "metadata": {
    "collapsed": true
   },
   "outputs": [],
   "source": [
    "# create a requests session\n",
    "s = requests.Session()"
   ]
  },
  {
   "cell_type": "code",
   "execution_count": 4,
   "metadata": {
    "collapsed": false
   },
   "outputs": [
    {
     "data": {
      "text/plain": [
       "<Response [200]>"
      ]
     },
     "execution_count": 4,
     "metadata": {},
     "output_type": "execute_result"
    }
   ],
   "source": [
    "# log in by posting multipart/form-data\n",
    "# cookies are stored in requests session automatically\n",
    "# note that using the format like {'email': 'bems@pp.u-tokyo.ac.jp'} would cause error\n",
    "s.post(log_url, files={'email': (None, 'bems@pp.u-tokyo.ac.jp'), \n",
    "                        'password': (None, '95a49208a'), \n",
    "                        'submit': (None, 'Pieslēgties')})"
   ]
  },
  {
   "cell_type": "code",
   "execution_count": 5,
   "metadata": {
    "collapsed": true
   },
   "outputs": [],
   "source": [
    "GTVN = ['4750346000160', '4750334000714', '4750327021900']"
   ]
  },
  {
   "cell_type": "code",
   "execution_count": 6,
   "metadata": {
    "collapsed": false
   },
   "outputs": [],
   "source": [
    "def GTVN_searcher(GTVN):\n",
    "    \n",
    "    data = {}\n",
    "    \n",
    "    for number in GTVN:\n",
    "        data[number] = {}\n",
    "        for info in ['ownership', 'information']:\n",
    "            data[number][info] = {}\n",
    "            # post form data for searching through requests session\n",
    "            r = s.post(search_url, data={'requestedGTIN': number, 'requestTradeItem': info})\n",
    "            # extract the information from content by BeautifulSoup\n",
    "            soup = BeautifulSoup(r.content, \"lxml\")\n",
    "            tds = soup.findAll('table')[0].findAll('td')\n",
    "            for i in range(len(tds)//2):\n",
    "                data[number][info][tds[2*i].text.split(':')[0]] = tds[2*i+1].text\n",
    "    return data"
   ]
  },
  {
   "cell_type": "code",
   "execution_count": 7,
   "metadata": {
    "collapsed": false
   },
   "outputs": [
    {
     "name": "stdout",
     "output_type": "stream",
     "text": [
      "1 loop, best of 3: 12.4 s per loop\n"
     ]
    }
   ],
   "source": [
    "%%timeit\n",
    "global data\n",
    "data = GTVN_searcher(GTVN)"
   ]
  },
  {
   "cell_type": "code",
   "execution_count": 8,
   "metadata": {
    "collapsed": false
   },
   "outputs": [
    {
     "data": {
      "text/plain": [
       "{'4750327021900': {'information': {'Nosaukums': 'Forele speciālā sālījumā ',\n",
       "   'Numurs': '04750327021900',\n",
       "   'Preču zīme': 'Zamelsons',\n",
       "   'Pārdošanas vienība': 'BASE_UNIT_OR_EACH'},\n",
       "  'ownership': {'GVN': '4750327000004',\n",
       "   'Provaidera GVN': '4750475000000',\n",
       "   'Pēdējās izmaiņas': '2012-01-04',\n",
       "   'Uzņēmuma numurs': '4750327',\n",
       "   'Uzņēmums': 'ZAMELSONS SIA'}},\n",
       " '4750334000714': {'information': {'Nosaukums': 'Garšviela hmeli suneli\\r\\n\\r\\n\\r\\n\\r\\n',\n",
       "   'Numurs': '04750334000714',\n",
       "   'Preču zīme': 'Valežs',\n",
       "   'Pārdošanas vienība': 'BASE_UNIT_OR_EACH'},\n",
       "  'ownership': {'GVN': '4750334000004',\n",
       "   'Provaidera GVN': '4750475000000',\n",
       "   'Pēdējās izmaiņas': '1998-01-28',\n",
       "   'Uzņēmuma numurs': '4750334',\n",
       "   'Uzņēmums': 'VALEŽS SIA RKF'}},\n",
       " '4750346000160': {'information': {'Nosaukums': ' Talsu kefīrs 2,5% bioloģiskā lauksaimniecība',\n",
       "   'Numurs': '04750346000160',\n",
       "   'Preču zīme': 'N/A',\n",
       "   'Pārdošanas vienība': 'BASE_UNIT_OR_EACH'},\n",
       "  'ownership': {'GVN': '4750346000009',\n",
       "   'Provaidera GVN': '4750475000000',\n",
       "   'Pēdējās izmaiņas': '1998-02-13',\n",
       "   'Uzņēmuma numurs': '4750346',\n",
       "   'Uzņēmums': 'TALSU PIENSAIMNIEKS A/S'}}}"
      ]
     },
     "execution_count": 8,
     "metadata": {},
     "output_type": "execute_result"
    }
   ],
   "source": [
    "data"
   ]
  },
  {
   "cell_type": "code",
   "execution_count": null,
   "metadata": {
    "collapsed": true
   },
   "outputs": [],
   "source": []
  }
 ],
 "metadata": {
  "anaconda-cloud": {},
  "kernelspec": {
   "display_name": "Python [Root]",
   "language": "python",
   "name": "Python [Root]"
  },
  "language_info": {
   "codemirror_mode": {
    "name": "ipython",
    "version": 3
   },
   "file_extension": ".py",
   "mimetype": "text/x-python",
   "name": "python",
   "nbconvert_exporter": "python",
   "pygments_lexer": "ipython3",
   "version": "3.5.2"
  }
 },
 "nbformat": 4,
 "nbformat_minor": 0
}
